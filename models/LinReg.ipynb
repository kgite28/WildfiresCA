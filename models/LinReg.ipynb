{
 "cells": [
  {
   "cell_type": "code",
   "execution_count": 2,
   "metadata": {},
   "outputs": [],
   "source": [
    "from sklearn.linear_model import LassoCV, LinearRegression,RidgeCV,LogisticRegression\n",
    "from sklearn.preprocessing import OneHotEncoder,LabelBinarizer, scale\n",
    "import pandas as pd\n",
    "import numpy as np\n",
    "from sklearn.model_selection import train_test_split, GridSearchCV\n",
    "from sklearn.metrics import roc_auc_score, plot_roc_curve, confusion_matrix\n",
    "import matplotlib.pyplot as plt"
   ]
  },
  {
   "cell_type": "markdown",
   "metadata": {},
   "source": [
    "## Logistic Regression\n",
    "\n",
    "Best for A or no A: AUC 0.6457323506689945, 65% accuracy\n",
    "```\n",
    "model=LogisticRegression(max_iter=10000,penalty=\"l1\",solver=\"liblinear\").fit(X_train,y_train)\n",
    "```\n",
    "\n",
    "A without 0.1: AUC 0.60, 80% accuracy (l1, liblinear)\n",
    "\n",
    "AB or not AB: severe overfitting\n",
    "\n",
    "Best when dropping 0.1: split at 1, AUC 0.64\n",
    "\n",
    "Drop 0.5 and below, split 1 or 0 at firesize > 2, AUC 0.67\n",
    "Drop 0.5 and below, split at firesize > 2, class_weight 0.8 - 0.2, 0.67\n",
    "\n",
    "drop 1 and below: split at 5\n",
    "\n",
    "drop 10 and below: split at 50, AUC= 0.648 (only 1000 rows)\n",
    "\n",
    "Keep all, split at 0.5, class_weight 0.05-0.95, no false negatives, AUC 0.64\n",
    "\n",
    "\n",
    "AUC 0.66, keep all rows, class weights 0.1 - 0.9, fpr = 87%, fnr = 5%\n",
    "\n",
    "### Final options\n",
    "\n",
    "Drop rows smaller than 0.5. Fires > 2 acres = 1, <= 2 acres = 0\n",
    "\n",
    "class_weight= {0:0.4,1:0.6}\n",
    "\n",
    "* accuracy 0.624246483590087\n",
    "* auc 0.671191247974068\n",
    "* 0.3338735818476499 = 1-recall (capture 66% of big fires)\n",
    "* 46% false alarm rate (<50%)\n",
    "\n",
    "class_weight= {0:0.3,1:0.7}\n",
    "\n",
    "* accuracy 0.5733422638981915\n",
    "* auc 0.6710284333533152\n",
    "* 0.1312803889789303 = 1-recall (capture 87% of big fires)\n",
    "* 50.9% false alarm rate (>50%)\n",
    "\n",
    "\n",
    "Don't drop rows smaller than 0.5; Fires > 2 acres = 1, <= 2 acres = 0\n",
    "class_weight= {0:0.1,1:0.9}\n",
    "\n",
    "* accuracy 0.46\n",
    "* auc 0.6510284333533152\n",
    "* 0.21 = 1-recall (capture 79% of big fires)\n",
    "* 84% false alarm rate (>50%)\n",
    "\n"
   ]
  },
  {
   "cell_type": "code",
   "execution_count": 117,
   "metadata": {},
   "outputs": [],
   "source": [
    "a = pd.read_csv(\"clean_fire_weather_classification_withfiresize2.csv\")\n",
    "a=a.drop(columns=\"Unnamed: 0\")"
   ]
  },
  {
   "cell_type": "code",
   "execution_count": 122,
   "metadata": {
    "scrolled": true
   },
   "outputs": [
    {
     "data": {
      "text/plain": [
       "STAT_CAUSE_CODE_10      57\n",
       "STAT_CAUSE_CODE_11     208\n",
       "STAT_CAUSE_CODE_12      21\n",
       "STAT_CAUSE_CODE_13    2873\n",
       "STAT_CAUSE_CODE_2     4304\n",
       "STAT_CAUSE_CODE_3     1000\n",
       "STAT_CAUSE_CODE_4     2109\n",
       "STAT_CAUSE_CODE_5     1158\n",
       "STAT_CAUSE_CODE_6      102\n",
       "STAT_CAUSE_CODE_7     2225\n",
       "STAT_CAUSE_CODE_8      934\n",
       "STAT_CAUSE_CODE_9     6855\n",
       "dtype: int64"
      ]
     },
     "execution_count": 122,
     "metadata": {},
     "output_type": "execute_result"
    }
   ],
   "source": [
    "a.loc[:,\"STAT_CAUSE_CODE_10\":].sum()"
   ]
  },
  {
   "cell_type": "code",
   "execution_count": 34,
   "metadata": {},
   "outputs": [
    {
     "data": {
      "text/plain": [
       "count     30951.000000\n",
       "mean        119.261355\n",
       "std        2701.119192\n",
       "min           0.001000\n",
       "25%           0.100000\n",
       "50%           0.100000\n",
       "75%           1.000000\n",
       "max      315578.800000\n",
       "Name: FIRE_SIZE, dtype: float64"
      ]
     },
     "execution_count": 34,
     "metadata": {},
     "output_type": "execute_result"
    }
   ],
   "source": [
    "a.FIRE_SIZE.describe()"
   ]
  },
  {
   "cell_type": "code",
   "execution_count": 35,
   "metadata": {
    "scrolled": true
   },
   "outputs": [],
   "source": [
    "a=a[a[\"FIRE_SIZE\"]>=0.5]"
   ]
  },
  {
   "cell_type": "code",
   "execution_count": 36,
   "metadata": {},
   "outputs": [
    {
     "data": {
      "text/plain": [
       "B    0.772398\n",
       "C    0.138941\n",
       "D    0.036727\n",
       "E    0.020691\n",
       "F    0.018208\n",
       "G    0.013035\n",
       "Name: FIRE_SIZE_CLASS, dtype: float64"
      ]
     },
     "execution_count": 36,
     "metadata": {},
     "output_type": "execute_result"
    }
   ],
   "source": [
    "a[\"FIRE_SIZE_CLASS\"].value_counts(normalize=True)"
   ]
  },
  {
   "cell_type": "code",
   "execution_count": 37,
   "metadata": {},
   "outputs": [],
   "source": [
    "#Define classes\n",
    "a[\"BIN_FIRE_SIZE\"] = (a[\"FIRE_SIZE\"]>=2)\n",
    "#a[\"BIN_FIRE_SIZE\"] = (a[\"FIRE_SIZE_CLASS\"].isin([\"A\",\"B\"]))\n",
    "a.loc[a[\"BIN_FIRE_SIZE\"] == True,\"BIN_FIRE_SIZE\"] =1\n",
    "a.loc[a[\"BIN_FIRE_SIZE\"] == False,\"BIN_FIRE_SIZE\"] =0\n",
    "a=a.drop(columns=[\"FIRE_SIZE_CLASS\",\"FIRE_SIZE\"])\n",
    "a.BIN_FIRE_SIZE = a.BIN_FIRE_SIZE.astype(float)"
   ]
  },
  {
   "cell_type": "code",
   "execution_count": 38,
   "metadata": {},
   "outputs": [
    {
     "data": {
      "text/plain": [
       "0.0    0.525553\n",
       "1.0    0.474447\n",
       "Name: BIN_FIRE_SIZE, dtype: float64"
      ]
     },
     "execution_count": 38,
     "metadata": {},
     "output_type": "execute_result"
    }
   ],
   "source": [
    "a[\"BIN_FIRE_SIZE\"].value_counts(normalize=True)"
   ]
  },
  {
   "cell_type": "code",
   "execution_count": 17,
   "metadata": {},
   "outputs": [],
   "source": [
    "#a.to_csv(\"splitat2.csv\",index=False)"
   ]
  },
  {
   "cell_type": "code",
   "execution_count": 39,
   "metadata": {},
   "outputs": [],
   "source": [
    "X_train, X_test, y_train, y_test = train_test_split(a.drop(columns=[\"BIN_FIRE_SIZE\"]), a.BIN_FIRE_SIZE, test_size=0.30, random_state=42)"
   ]
  },
  {
   "cell_type": "code",
   "execution_count": 69,
   "metadata": {},
   "outputs": [],
   "source": [
    "model=LogisticRegression(max_iter=10000,penalty=\"l1\",solver=\"liblinear\",class_weight={0:0.43,1:0.57}).fit(X_train,y_train)"
   ]
  },
  {
   "cell_type": "code",
   "execution_count": 70,
   "metadata": {},
   "outputs": [
    {
     "data": {
      "text/plain": [
       "0.5717241379310345"
      ]
     },
     "execution_count": 70,
     "metadata": {},
     "output_type": "execute_result"
    }
   ],
   "source": [
    "model.score(X_test,y_test) #accuracy"
   ]
  },
  {
   "cell_type": "code",
   "execution_count": 71,
   "metadata": {},
   "outputs": [
    {
     "data": {
      "text/plain": [
       "0.6160723531227885"
      ]
     },
     "execution_count": 71,
     "metadata": {},
     "output_type": "execute_result"
    }
   ],
   "source": [
    "y_pred = model.predict_proba(X_test)[:,1]\n",
    "cart_auc = roc_auc_score(y_test,y_pred)\n",
    "cart_auc #AUC"
   ]
  },
  {
   "cell_type": "code",
   "execution_count": 72,
   "metadata": {
    "scrolled": true
   },
   "outputs": [
    {
     "data": {
      "text/plain": [
       "[<matplotlib.lines.Line2D at 0x2d81c0a0280>]"
      ]
     },
     "execution_count": 72,
     "metadata": {},
     "output_type": "execute_result"
    },
    {
     "data": {
      "image/png": "[encoded data removed]",
      "text/plain": [
       "<Figure size 432x288 with 1 Axes>"
      ]
     },
     "metadata": {
      "needs_background": "light"
     },
     "output_type": "display_data"
    }
   ],
   "source": [
    "plot_roc_curve(model,X_test,y_test)\n",
    "plt.plot([0, 1], [0, 1])"
   ]
  },
  {
   "cell_type": "code",
   "execution_count": 73,
   "metadata": {},
   "outputs": [
    {
     "data": {
      "text/plain": [
       "(567, 966, 276, 1091)"
      ]
     },
     "execution_count": 73,
     "metadata": {},
     "output_type": "execute_result"
    }
   ],
   "source": [
    "tn, fp, fn, tp = confusion_matrix(y_test.values,model.predict(X_test)).ravel()\n",
    "tn,fp,fn,tp"
   ]
  },
  {
   "cell_type": "code",
   "execution_count": 74,
   "metadata": {},
   "outputs": [
    {
     "data": {
      "text/plain": [
       "0.20190197512801755"
      ]
     },
     "execution_count": 74,
     "metadata": {},
     "output_type": "execute_result"
    }
   ],
   "source": [
    "fn/(tp+fn) #think it's big when it's not (rate of thinking small fires are big)"
   ]
  },
  {
   "cell_type": "code",
   "execution_count": 75,
   "metadata": {},
   "outputs": [
    {
     "data": {
      "text/plain": [
       "0.6301369863013698"
      ]
     },
     "execution_count": 75,
     "metadata": {},
     "output_type": "execute_result"
    }
   ],
   "source": [
    "fp/(fp+tn) #think it's small when it's not (rate of missing big fires)"
   ]
  },
  {
   "cell_type": "markdown",
   "metadata": {},
   "source": [
    "## Data stuff"
   ]
  },
  {
   "cell_type": "code",
   "execution_count": null,
   "metadata": {
    "scrolled": true
   },
   "outputs": [],
   "source": [
    "a[\"FIRE_SIZE_CLASS\"].value_counts(normalize=True)"
   ]
  },
  {
   "cell_type": "code",
   "execution_count": null,
   "metadata": {
    "scrolled": false
   },
   "outputs": [],
   "source": [
    "a.groupby(\"FIRE_SIZE_CLASS\").count()"
   ]
  },
  {
   "cell_type": "code",
   "execution_count": null,
   "metadata": {},
   "outputs": [],
   "source": [
    "a[\"efiresize\"].value_counts(normalize=True)"
   ]
  },
  {
   "cell_type": "code",
   "execution_count": null,
   "metadata": {},
   "outputs": [],
   "source": [
    "a[\"efiresize\"] = np.exp(a.FIRE_SIZE)"
   ]
  },
  {
   "cell_type": "markdown",
   "metadata": {},
   "source": [
    "## Linear Regression"
   ]
  },
  {
   "cell_type": "code",
   "execution_count": 100,
   "metadata": {},
   "outputs": [
    {
     "data": {
      "text/html": [
       "<div>\n",
       "<style scoped>\n",
       "    .dataframe tbody tr th:only-of-type {\n",
       "        vertical-align: middle;\n",
       "    }\n",
       "\n",
       "    .dataframe tbody tr th {\n",
       "        vertical-align: top;\n",
       "    }\n",
       "\n",
       "    .dataframe thead th {\n",
       "        text-align: right;\n",
       "    }\n",
       "</style>\n",
       "<table border=\"1\" class=\"dataframe\">\n",
       "  <thead>\n",
       "    <tr style=\"text-align: right;\">\n",
       "      <th></th>\n",
       "      <th>Unnamed: 0</th>\n",
       "      <th>drybulbtemp</th>\n",
       "      <th>atm_moisture</th>\n",
       "      <th>wind_azimuth</th>\n",
       "      <th>avg_windspeed</th>\n",
       "      <th>fuelmoisture</th>\n",
       "      <th>maxtemp</th>\n",
       "      <th>mintemp</th>\n",
       "      <th>maxhumid</th>\n",
       "      <th>minhumid</th>\n",
       "      <th>...</th>\n",
       "      <th>STAT_CAUSE_CODE_12</th>\n",
       "      <th>STAT_CAUSE_CODE_13</th>\n",
       "      <th>STAT_CAUSE_CODE_2</th>\n",
       "      <th>STAT_CAUSE_CODE_3</th>\n",
       "      <th>STAT_CAUSE_CODE_4</th>\n",
       "      <th>STAT_CAUSE_CODE_5</th>\n",
       "      <th>STAT_CAUSE_CODE_6</th>\n",
       "      <th>STAT_CAUSE_CODE_7</th>\n",
       "      <th>STAT_CAUSE_CODE_8</th>\n",
       "      <th>STAT_CAUSE_CODE_9</th>\n",
       "    </tr>\n",
       "  </thead>\n",
       "  <tbody>\n",
       "    <tr>\n",
       "      <th>0</th>\n",
       "      <td>1</td>\n",
       "      <td>69.0</td>\n",
       "      <td>30.0</td>\n",
       "      <td>162.0</td>\n",
       "      <td>7.0</td>\n",
       "      <td>6.0</td>\n",
       "      <td>70.0</td>\n",
       "      <td>35.0</td>\n",
       "      <td>82.0</td>\n",
       "      <td>28.0</td>\n",
       "      <td>...</td>\n",
       "      <td>0</td>\n",
       "      <td>0</td>\n",
       "      <td>0</td>\n",
       "      <td>0</td>\n",
       "      <td>0</td>\n",
       "      <td>0</td>\n",
       "      <td>0</td>\n",
       "      <td>0</td>\n",
       "      <td>0</td>\n",
       "      <td>0</td>\n",
       "    </tr>\n",
       "    <tr>\n",
       "      <th>1</th>\n",
       "      <td>2</td>\n",
       "      <td>57.0</td>\n",
       "      <td>42.0</td>\n",
       "      <td>220.0</td>\n",
       "      <td>1.0</td>\n",
       "      <td>8.0</td>\n",
       "      <td>57.0</td>\n",
       "      <td>30.0</td>\n",
       "      <td>78.0</td>\n",
       "      <td>39.0</td>\n",
       "      <td>...</td>\n",
       "      <td>0</td>\n",
       "      <td>0</td>\n",
       "      <td>0</td>\n",
       "      <td>0</td>\n",
       "      <td>0</td>\n",
       "      <td>0</td>\n",
       "      <td>0</td>\n",
       "      <td>0</td>\n",
       "      <td>0</td>\n",
       "      <td>1</td>\n",
       "    </tr>\n",
       "    <tr>\n",
       "      <th>2</th>\n",
       "      <td>3</td>\n",
       "      <td>80.0</td>\n",
       "      <td>22.5</td>\n",
       "      <td>194.0</td>\n",
       "      <td>3.0</td>\n",
       "      <td>5.0</td>\n",
       "      <td>80.5</td>\n",
       "      <td>39.0</td>\n",
       "      <td>75.5</td>\n",
       "      <td>17.0</td>\n",
       "      <td>...</td>\n",
       "      <td>0</td>\n",
       "      <td>0</td>\n",
       "      <td>0</td>\n",
       "      <td>0</td>\n",
       "      <td>0</td>\n",
       "      <td>0</td>\n",
       "      <td>0</td>\n",
       "      <td>0</td>\n",
       "      <td>0</td>\n",
       "      <td>1</td>\n",
       "    </tr>\n",
       "    <tr>\n",
       "      <th>3</th>\n",
       "      <td>4</td>\n",
       "      <td>84.6</td>\n",
       "      <td>26.8</td>\n",
       "      <td>261.0</td>\n",
       "      <td>3.4</td>\n",
       "      <td>5.0</td>\n",
       "      <td>85.6</td>\n",
       "      <td>49.2</td>\n",
       "      <td>68.0</td>\n",
       "      <td>17.4</td>\n",
       "      <td>...</td>\n",
       "      <td>0</td>\n",
       "      <td>0</td>\n",
       "      <td>1</td>\n",
       "      <td>0</td>\n",
       "      <td>0</td>\n",
       "      <td>0</td>\n",
       "      <td>0</td>\n",
       "      <td>0</td>\n",
       "      <td>0</td>\n",
       "      <td>0</td>\n",
       "    </tr>\n",
       "    <tr>\n",
       "      <th>4</th>\n",
       "      <td>5</td>\n",
       "      <td>87.0</td>\n",
       "      <td>32.6</td>\n",
       "      <td>221.2</td>\n",
       "      <td>2.6</td>\n",
       "      <td>5.0</td>\n",
       "      <td>87.0</td>\n",
       "      <td>54.8</td>\n",
       "      <td>76.8</td>\n",
       "      <td>28.4</td>\n",
       "      <td>...</td>\n",
       "      <td>0</td>\n",
       "      <td>0</td>\n",
       "      <td>0</td>\n",
       "      <td>0</td>\n",
       "      <td>1</td>\n",
       "      <td>0</td>\n",
       "      <td>0</td>\n",
       "      <td>0</td>\n",
       "      <td>0</td>\n",
       "      <td>0</td>\n",
       "    </tr>\n",
       "    <tr>\n",
       "      <th>...</th>\n",
       "      <td>...</td>\n",
       "      <td>...</td>\n",
       "      <td>...</td>\n",
       "      <td>...</td>\n",
       "      <td>...</td>\n",
       "      <td>...</td>\n",
       "      <td>...</td>\n",
       "      <td>...</td>\n",
       "      <td>...</td>\n",
       "      <td>...</td>\n",
       "      <td>...</td>\n",
       "      <td>...</td>\n",
       "      <td>...</td>\n",
       "      <td>...</td>\n",
       "      <td>...</td>\n",
       "      <td>...</td>\n",
       "      <td>...</td>\n",
       "      <td>...</td>\n",
       "      <td>...</td>\n",
       "      <td>...</td>\n",
       "      <td>...</td>\n",
       "    </tr>\n",
       "    <tr>\n",
       "      <th>17286</th>\n",
       "      <td>17287</td>\n",
       "      <td>97.0</td>\n",
       "      <td>17.0</td>\n",
       "      <td>305.0</td>\n",
       "      <td>1.0</td>\n",
       "      <td>5.0</td>\n",
       "      <td>97.0</td>\n",
       "      <td>49.0</td>\n",
       "      <td>82.0</td>\n",
       "      <td>14.0</td>\n",
       "      <td>...</td>\n",
       "      <td>0</td>\n",
       "      <td>0</td>\n",
       "      <td>0</td>\n",
       "      <td>0</td>\n",
       "      <td>0</td>\n",
       "      <td>0</td>\n",
       "      <td>0</td>\n",
       "      <td>1</td>\n",
       "      <td>0</td>\n",
       "      <td>0</td>\n",
       "    </tr>\n",
       "    <tr>\n",
       "      <th>17287</th>\n",
       "      <td>17288</td>\n",
       "      <td>103.0</td>\n",
       "      <td>20.0</td>\n",
       "      <td>118.0</td>\n",
       "      <td>4.0</td>\n",
       "      <td>5.0</td>\n",
       "      <td>104.0</td>\n",
       "      <td>69.0</td>\n",
       "      <td>47.0</td>\n",
       "      <td>18.0</td>\n",
       "      <td>...</td>\n",
       "      <td>0</td>\n",
       "      <td>0</td>\n",
       "      <td>0</td>\n",
       "      <td>0</td>\n",
       "      <td>0</td>\n",
       "      <td>0</td>\n",
       "      <td>0</td>\n",
       "      <td>0</td>\n",
       "      <td>0</td>\n",
       "      <td>1</td>\n",
       "    </tr>\n",
       "    <tr>\n",
       "      <th>17288</th>\n",
       "      <td>17289</td>\n",
       "      <td>103.0</td>\n",
       "      <td>20.0</td>\n",
       "      <td>118.0</td>\n",
       "      <td>4.0</td>\n",
       "      <td>5.0</td>\n",
       "      <td>104.0</td>\n",
       "      <td>69.0</td>\n",
       "      <td>47.0</td>\n",
       "      <td>18.0</td>\n",
       "      <td>...</td>\n",
       "      <td>0</td>\n",
       "      <td>0</td>\n",
       "      <td>0</td>\n",
       "      <td>0</td>\n",
       "      <td>0</td>\n",
       "      <td>0</td>\n",
       "      <td>0</td>\n",
       "      <td>0</td>\n",
       "      <td>0</td>\n",
       "      <td>1</td>\n",
       "    </tr>\n",
       "    <tr>\n",
       "      <th>17289</th>\n",
       "      <td>17290</td>\n",
       "      <td>90.0</td>\n",
       "      <td>34.0</td>\n",
       "      <td>216.0</td>\n",
       "      <td>1.0</td>\n",
       "      <td>6.0</td>\n",
       "      <td>92.0</td>\n",
       "      <td>66.0</td>\n",
       "      <td>64.0</td>\n",
       "      <td>30.0</td>\n",
       "      <td>...</td>\n",
       "      <td>0</td>\n",
       "      <td>0</td>\n",
       "      <td>1</td>\n",
       "      <td>0</td>\n",
       "      <td>0</td>\n",
       "      <td>0</td>\n",
       "      <td>0</td>\n",
       "      <td>0</td>\n",
       "      <td>0</td>\n",
       "      <td>0</td>\n",
       "    </tr>\n",
       "    <tr>\n",
       "      <th>17290</th>\n",
       "      <td>17291</td>\n",
       "      <td>86.0</td>\n",
       "      <td>11.0</td>\n",
       "      <td>222.0</td>\n",
       "      <td>6.0</td>\n",
       "      <td>4.0</td>\n",
       "      <td>86.0</td>\n",
       "      <td>62.0</td>\n",
       "      <td>32.0</td>\n",
       "      <td>10.0</td>\n",
       "      <td>...</td>\n",
       "      <td>0</td>\n",
       "      <td>0</td>\n",
       "      <td>0</td>\n",
       "      <td>0</td>\n",
       "      <td>0</td>\n",
       "      <td>0</td>\n",
       "      <td>0</td>\n",
       "      <td>0</td>\n",
       "      <td>0</td>\n",
       "      <td>1</td>\n",
       "    </tr>\n",
       "  </tbody>\n",
       "</table>\n",
       "<p>17291 rows × 65 columns</p>\n",
       "</div>"
      ],
      "text/plain": [
       "       Unnamed: 0  drybulbtemp  atm_moisture  wind_azimuth  avg_windspeed  \\\n",
       "0               1         69.0          30.0         162.0            7.0   \n",
       "1               2         57.0          42.0         220.0            1.0   \n",
       "2               3         80.0          22.5         194.0            3.0   \n",
       "3               4         84.6          26.8         261.0            3.4   \n",
       "4               5         87.0          32.6         221.2            2.6   \n",
       "...           ...          ...           ...           ...            ...   \n",
       "17286       17287         97.0          17.0         305.0            1.0   \n",
       "17287       17288        103.0          20.0         118.0            4.0   \n",
       "17288       17289        103.0          20.0         118.0            4.0   \n",
       "17289       17290         90.0          34.0         216.0            1.0   \n",
       "17290       17291         86.0          11.0         222.0            6.0   \n",
       "\n",
       "       fuelmoisture  maxtemp  mintemp  maxhumid  minhumid  ...  \\\n",
       "0               6.0     70.0     35.0      82.0      28.0  ...   \n",
       "1               8.0     57.0     30.0      78.0      39.0  ...   \n",
       "2               5.0     80.5     39.0      75.5      17.0  ...   \n",
       "3               5.0     85.6     49.2      68.0      17.4  ...   \n",
       "4               5.0     87.0     54.8      76.8      28.4  ...   \n",
       "...             ...      ...      ...       ...       ...  ...   \n",
       "17286           5.0     97.0     49.0      82.0      14.0  ...   \n",
       "17287           5.0    104.0     69.0      47.0      18.0  ...   \n",
       "17288           5.0    104.0     69.0      47.0      18.0  ...   \n",
       "17289           6.0     92.0     66.0      64.0      30.0  ...   \n",
       "17290           4.0     86.0     62.0      32.0      10.0  ...   \n",
       "\n",
       "       STAT_CAUSE_CODE_12  STAT_CAUSE_CODE_13  STAT_CAUSE_CODE_2  \\\n",
       "0                       0                   0                  0   \n",
       "1                       0                   0                  0   \n",
       "2                       0                   0                  0   \n",
       "3                       0                   0                  1   \n",
       "4                       0                   0                  0   \n",
       "...                   ...                 ...                ...   \n",
       "17286                   0                   0                  0   \n",
       "17287                   0                   0                  0   \n",
       "17288                   0                   0                  0   \n",
       "17289                   0                   0                  1   \n",
       "17290                   0                   0                  0   \n",
       "\n",
       "       STAT_CAUSE_CODE_3  STAT_CAUSE_CODE_4  STAT_CAUSE_CODE_5  \\\n",
       "0                      0                  0                  0   \n",
       "1                      0                  0                  0   \n",
       "2                      0                  0                  0   \n",
       "3                      0                  0                  0   \n",
       "4                      0                  1                  0   \n",
       "...                  ...                ...                ...   \n",
       "17286                  0                  0                  0   \n",
       "17287                  0                  0                  0   \n",
       "17288                  0                  0                  0   \n",
       "17289                  0                  0                  0   \n",
       "17290                  0                  0                  0   \n",
       "\n",
       "       STAT_CAUSE_CODE_6  STAT_CAUSE_CODE_7  STAT_CAUSE_CODE_8  \\\n",
       "0                      0                  0                  0   \n",
       "1                      0                  0                  0   \n",
       "2                      0                  0                  0   \n",
       "3                      0                  0                  0   \n",
       "4                      0                  0                  0   \n",
       "...                  ...                ...                ...   \n",
       "17286                  0                  1                  0   \n",
       "17287                  0                  0                  0   \n",
       "17288                  0                  0                  0   \n",
       "17289                  0                  0                  0   \n",
       "17290                  0                  0                  0   \n",
       "\n",
       "       STAT_CAUSE_CODE_9  \n",
       "0                      0  \n",
       "1                      1  \n",
       "2                      1  \n",
       "3                      0  \n",
       "4                      0  \n",
       "...                  ...  \n",
       "17286                  0  \n",
       "17287                  1  \n",
       "17288                  1  \n",
       "17289                  0  \n",
       "17290                  1  \n",
       "\n",
       "[17291 rows x 65 columns]"
      ]
     },
     "execution_count": 100,
     "metadata": {},
     "output_type": "execute_result"
    }
   ],
   "source": [
    "a = pd.read_csv(\"clean_fire_weather_Kiran.csv\")\n",
    "a"
   ]
  },
  {
   "cell_type": "code",
   "execution_count": 101,
   "metadata": {},
   "outputs": [],
   "source": [
    "a=(a[a.FIRE_SIZE > 0.5]).drop(columns=[\"Unnamed: 0\"])"
   ]
  },
  {
   "cell_type": "code",
   "execution_count": 102,
   "metadata": {},
   "outputs": [
    {
     "data": {
      "text/html": [
       "<div>\n",
       "<style scoped>\n",
       "    .dataframe tbody tr th:only-of-type {\n",
       "        vertical-align: middle;\n",
       "    }\n",
       "\n",
       "    .dataframe tbody tr th {\n",
       "        vertical-align: top;\n",
       "    }\n",
       "\n",
       "    .dataframe thead th {\n",
       "        text-align: right;\n",
       "    }\n",
       "</style>\n",
       "<table border=\"1\" class=\"dataframe\">\n",
       "  <thead>\n",
       "    <tr style=\"text-align: right;\">\n",
       "      <th></th>\n",
       "      <th>drybulbtemp</th>\n",
       "      <th>atm_moisture</th>\n",
       "      <th>wind_azimuth</th>\n",
       "      <th>avg_windspeed</th>\n",
       "      <th>fuelmoisture</th>\n",
       "      <th>maxtemp</th>\n",
       "      <th>mintemp</th>\n",
       "      <th>maxhumid</th>\n",
       "      <th>minhumid</th>\n",
       "      <th>precip_duration</th>\n",
       "      <th>...</th>\n",
       "      <th>STAT_CAUSE_CODE_12</th>\n",
       "      <th>STAT_CAUSE_CODE_13</th>\n",
       "      <th>STAT_CAUSE_CODE_2</th>\n",
       "      <th>STAT_CAUSE_CODE_3</th>\n",
       "      <th>STAT_CAUSE_CODE_4</th>\n",
       "      <th>STAT_CAUSE_CODE_5</th>\n",
       "      <th>STAT_CAUSE_CODE_6</th>\n",
       "      <th>STAT_CAUSE_CODE_7</th>\n",
       "      <th>STAT_CAUSE_CODE_8</th>\n",
       "      <th>STAT_CAUSE_CODE_9</th>\n",
       "    </tr>\n",
       "  </thead>\n",
       "  <tbody>\n",
       "    <tr>\n",
       "      <th>5</th>\n",
       "      <td>87.000000</td>\n",
       "      <td>32.600000</td>\n",
       "      <td>221.200000</td>\n",
       "      <td>2.600000</td>\n",
       "      <td>5.0</td>\n",
       "      <td>87.000000</td>\n",
       "      <td>54.800000</td>\n",
       "      <td>76.800000</td>\n",
       "      <td>28.400000</td>\n",
       "      <td>0.0</td>\n",
       "      <td>...</td>\n",
       "      <td>0</td>\n",
       "      <td>0</td>\n",
       "      <td>1</td>\n",
       "      <td>0</td>\n",
       "      <td>0</td>\n",
       "      <td>0</td>\n",
       "      <td>0</td>\n",
       "      <td>0</td>\n",
       "      <td>0</td>\n",
       "      <td>0</td>\n",
       "    </tr>\n",
       "    <tr>\n",
       "      <th>13</th>\n",
       "      <td>87.800000</td>\n",
       "      <td>18.400000</td>\n",
       "      <td>197.800000</td>\n",
       "      <td>4.400000</td>\n",
       "      <td>4.0</td>\n",
       "      <td>88.600000</td>\n",
       "      <td>50.600000</td>\n",
       "      <td>57.600000</td>\n",
       "      <td>15.600000</td>\n",
       "      <td>0.0</td>\n",
       "      <td>...</td>\n",
       "      <td>0</td>\n",
       "      <td>0</td>\n",
       "      <td>1</td>\n",
       "      <td>0</td>\n",
       "      <td>0</td>\n",
       "      <td>0</td>\n",
       "      <td>0</td>\n",
       "      <td>0</td>\n",
       "      <td>0</td>\n",
       "      <td>0</td>\n",
       "    </tr>\n",
       "    <tr>\n",
       "      <th>14</th>\n",
       "      <td>91.000000</td>\n",
       "      <td>22.000000</td>\n",
       "      <td>329.000000</td>\n",
       "      <td>3.000000</td>\n",
       "      <td>3.0</td>\n",
       "      <td>91.000000</td>\n",
       "      <td>51.000000</td>\n",
       "      <td>59.000000</td>\n",
       "      <td>22.000000</td>\n",
       "      <td>0.0</td>\n",
       "      <td>...</td>\n",
       "      <td>0</td>\n",
       "      <td>0</td>\n",
       "      <td>1</td>\n",
       "      <td>0</td>\n",
       "      <td>0</td>\n",
       "      <td>0</td>\n",
       "      <td>0</td>\n",
       "      <td>0</td>\n",
       "      <td>0</td>\n",
       "      <td>0</td>\n",
       "    </tr>\n",
       "    <tr>\n",
       "      <th>19</th>\n",
       "      <td>90.000000</td>\n",
       "      <td>26.250000</td>\n",
       "      <td>262.250000</td>\n",
       "      <td>3.000000</td>\n",
       "      <td>6.0</td>\n",
       "      <td>95.500000</td>\n",
       "      <td>65.750000</td>\n",
       "      <td>63.250000</td>\n",
       "      <td>22.250000</td>\n",
       "      <td>0.0</td>\n",
       "      <td>...</td>\n",
       "      <td>0</td>\n",
       "      <td>0</td>\n",
       "      <td>0</td>\n",
       "      <td>0</td>\n",
       "      <td>0</td>\n",
       "      <td>0</td>\n",
       "      <td>0</td>\n",
       "      <td>0</td>\n",
       "      <td>0</td>\n",
       "      <td>1</td>\n",
       "    </tr>\n",
       "    <tr>\n",
       "      <th>24</th>\n",
       "      <td>79.333333</td>\n",
       "      <td>25.333333</td>\n",
       "      <td>288.333333</td>\n",
       "      <td>3.333333</td>\n",
       "      <td>5.0</td>\n",
       "      <td>80.000000</td>\n",
       "      <td>44.666667</td>\n",
       "      <td>69.333333</td>\n",
       "      <td>22.333333</td>\n",
       "      <td>0.0</td>\n",
       "      <td>...</td>\n",
       "      <td>0</td>\n",
       "      <td>0</td>\n",
       "      <td>0</td>\n",
       "      <td>0</td>\n",
       "      <td>0</td>\n",
       "      <td>0</td>\n",
       "      <td>0</td>\n",
       "      <td>0</td>\n",
       "      <td>1</td>\n",
       "      <td>0</td>\n",
       "    </tr>\n",
       "    <tr>\n",
       "      <th>...</th>\n",
       "      <td>...</td>\n",
       "      <td>...</td>\n",
       "      <td>...</td>\n",
       "      <td>...</td>\n",
       "      <td>...</td>\n",
       "      <td>...</td>\n",
       "      <td>...</td>\n",
       "      <td>...</td>\n",
       "      <td>...</td>\n",
       "      <td>...</td>\n",
       "      <td>...</td>\n",
       "      <td>...</td>\n",
       "      <td>...</td>\n",
       "      <td>...</td>\n",
       "      <td>...</td>\n",
       "      <td>...</td>\n",
       "      <td>...</td>\n",
       "      <td>...</td>\n",
       "      <td>...</td>\n",
       "      <td>...</td>\n",
       "      <td>...</td>\n",
       "    </tr>\n",
       "    <tr>\n",
       "      <th>17271</th>\n",
       "      <td>83.555556</td>\n",
       "      <td>17.555556</td>\n",
       "      <td>177.333333</td>\n",
       "      <td>2.888889</td>\n",
       "      <td>6.0</td>\n",
       "      <td>86.333333</td>\n",
       "      <td>49.111111</td>\n",
       "      <td>76.888889</td>\n",
       "      <td>14.777778</td>\n",
       "      <td>0.0</td>\n",
       "      <td>...</td>\n",
       "      <td>0</td>\n",
       "      <td>0</td>\n",
       "      <td>0</td>\n",
       "      <td>0</td>\n",
       "      <td>0</td>\n",
       "      <td>0</td>\n",
       "      <td>0</td>\n",
       "      <td>0</td>\n",
       "      <td>0</td>\n",
       "      <td>1</td>\n",
       "    </tr>\n",
       "    <tr>\n",
       "      <th>17275</th>\n",
       "      <td>90.444444</td>\n",
       "      <td>11.888889</td>\n",
       "      <td>153.222222</td>\n",
       "      <td>2.777778</td>\n",
       "      <td>4.0</td>\n",
       "      <td>93.888889</td>\n",
       "      <td>54.000000</td>\n",
       "      <td>44.333333</td>\n",
       "      <td>8.222222</td>\n",
       "      <td>0.0</td>\n",
       "      <td>...</td>\n",
       "      <td>0</td>\n",
       "      <td>0</td>\n",
       "      <td>0</td>\n",
       "      <td>0</td>\n",
       "      <td>0</td>\n",
       "      <td>0</td>\n",
       "      <td>0</td>\n",
       "      <td>0</td>\n",
       "      <td>0</td>\n",
       "      <td>1</td>\n",
       "    </tr>\n",
       "    <tr>\n",
       "      <th>17276</th>\n",
       "      <td>90.444444</td>\n",
       "      <td>11.888889</td>\n",
       "      <td>153.222222</td>\n",
       "      <td>2.777778</td>\n",
       "      <td>4.0</td>\n",
       "      <td>93.888889</td>\n",
       "      <td>54.000000</td>\n",
       "      <td>44.333333</td>\n",
       "      <td>8.222222</td>\n",
       "      <td>0.0</td>\n",
       "      <td>...</td>\n",
       "      <td>0</td>\n",
       "      <td>0</td>\n",
       "      <td>0</td>\n",
       "      <td>0</td>\n",
       "      <td>1</td>\n",
       "      <td>0</td>\n",
       "      <td>0</td>\n",
       "      <td>0</td>\n",
       "      <td>0</td>\n",
       "      <td>0</td>\n",
       "    </tr>\n",
       "    <tr>\n",
       "      <th>17282</th>\n",
       "      <td>92.777778</td>\n",
       "      <td>8.333333</td>\n",
       "      <td>247.444444</td>\n",
       "      <td>3.555556</td>\n",
       "      <td>3.0</td>\n",
       "      <td>97.333333</td>\n",
       "      <td>56.777778</td>\n",
       "      <td>39.111111</td>\n",
       "      <td>7.333333</td>\n",
       "      <td>0.0</td>\n",
       "      <td>...</td>\n",
       "      <td>0</td>\n",
       "      <td>0</td>\n",
       "      <td>0</td>\n",
       "      <td>0</td>\n",
       "      <td>0</td>\n",
       "      <td>0</td>\n",
       "      <td>0</td>\n",
       "      <td>0</td>\n",
       "      <td>0</td>\n",
       "      <td>1</td>\n",
       "    </tr>\n",
       "    <tr>\n",
       "      <th>17290</th>\n",
       "      <td>86.000000</td>\n",
       "      <td>11.000000</td>\n",
       "      <td>222.000000</td>\n",
       "      <td>6.000000</td>\n",
       "      <td>4.0</td>\n",
       "      <td>86.000000</td>\n",
       "      <td>62.000000</td>\n",
       "      <td>32.000000</td>\n",
       "      <td>10.000000</td>\n",
       "      <td>0.0</td>\n",
       "      <td>...</td>\n",
       "      <td>0</td>\n",
       "      <td>0</td>\n",
       "      <td>0</td>\n",
       "      <td>0</td>\n",
       "      <td>0</td>\n",
       "      <td>0</td>\n",
       "      <td>0</td>\n",
       "      <td>0</td>\n",
       "      <td>0</td>\n",
       "      <td>1</td>\n",
       "    </tr>\n",
       "  </tbody>\n",
       "</table>\n",
       "<p>2474 rows × 64 columns</p>\n",
       "</div>"
      ],
      "text/plain": [
       "       drybulbtemp  atm_moisture  wind_azimuth  avg_windspeed  fuelmoisture  \\\n",
       "5        87.000000     32.600000    221.200000       2.600000           5.0   \n",
       "13       87.800000     18.400000    197.800000       4.400000           4.0   \n",
       "14       91.000000     22.000000    329.000000       3.000000           3.0   \n",
       "19       90.000000     26.250000    262.250000       3.000000           6.0   \n",
       "24       79.333333     25.333333    288.333333       3.333333           5.0   \n",
       "...            ...           ...           ...            ...           ...   \n",
       "17271    83.555556     17.555556    177.333333       2.888889           6.0   \n",
       "17275    90.444444     11.888889    153.222222       2.777778           4.0   \n",
       "17276    90.444444     11.888889    153.222222       2.777778           4.0   \n",
       "17282    92.777778      8.333333    247.444444       3.555556           3.0   \n",
       "17290    86.000000     11.000000    222.000000       6.000000           4.0   \n",
       "\n",
       "         maxtemp    mintemp   maxhumid   minhumid  precip_duration  ...  \\\n",
       "5      87.000000  54.800000  76.800000  28.400000              0.0  ...   \n",
       "13     88.600000  50.600000  57.600000  15.600000              0.0  ...   \n",
       "14     91.000000  51.000000  59.000000  22.000000              0.0  ...   \n",
       "19     95.500000  65.750000  63.250000  22.250000              0.0  ...   \n",
       "24     80.000000  44.666667  69.333333  22.333333              0.0  ...   \n",
       "...          ...        ...        ...        ...              ...  ...   \n",
       "17271  86.333333  49.111111  76.888889  14.777778              0.0  ...   \n",
       "17275  93.888889  54.000000  44.333333   8.222222              0.0  ...   \n",
       "17276  93.888889  54.000000  44.333333   8.222222              0.0  ...   \n",
       "17282  97.333333  56.777778  39.111111   7.333333              0.0  ...   \n",
       "17290  86.000000  62.000000  32.000000  10.000000              0.0  ...   \n",
       "\n",
       "       STAT_CAUSE_CODE_12  STAT_CAUSE_CODE_13  STAT_CAUSE_CODE_2  \\\n",
       "5                       0                   0                  1   \n",
       "13                      0                   0                  1   \n",
       "14                      0                   0                  1   \n",
       "19                      0                   0                  0   \n",
       "24                      0                   0                  0   \n",
       "...                   ...                 ...                ...   \n",
       "17271                   0                   0                  0   \n",
       "17275                   0                   0                  0   \n",
       "17276                   0                   0                  0   \n",
       "17282                   0                   0                  0   \n",
       "17290                   0                   0                  0   \n",
       "\n",
       "       STAT_CAUSE_CODE_3  STAT_CAUSE_CODE_4  STAT_CAUSE_CODE_5  \\\n",
       "5                      0                  0                  0   \n",
       "13                     0                  0                  0   \n",
       "14                     0                  0                  0   \n",
       "19                     0                  0                  0   \n",
       "24                     0                  0                  0   \n",
       "...                  ...                ...                ...   \n",
       "17271                  0                  0                  0   \n",
       "17275                  0                  0                  0   \n",
       "17276                  0                  1                  0   \n",
       "17282                  0                  0                  0   \n",
       "17290                  0                  0                  0   \n",
       "\n",
       "       STAT_CAUSE_CODE_6  STAT_CAUSE_CODE_7  STAT_CAUSE_CODE_8  \\\n",
       "5                      0                  0                  0   \n",
       "13                     0                  0                  0   \n",
       "14                     0                  0                  0   \n",
       "19                     0                  0                  0   \n",
       "24                     0                  0                  1   \n",
       "...                  ...                ...                ...   \n",
       "17271                  0                  0                  0   \n",
       "17275                  0                  0                  0   \n",
       "17276                  0                  0                  0   \n",
       "17282                  0                  0                  0   \n",
       "17290                  0                  0                  0   \n",
       "\n",
       "       STAT_CAUSE_CODE_9  \n",
       "5                      0  \n",
       "13                     0  \n",
       "14                     0  \n",
       "19                     1  \n",
       "24                     0  \n",
       "...                  ...  \n",
       "17271                  1  \n",
       "17275                  1  \n",
       "17276                  0  \n",
       "17282                  1  \n",
       "17290                  1  \n",
       "\n",
       "[2474 rows x 64 columns]"
      ]
     },
     "execution_count": 102,
     "metadata": {},
     "output_type": "execute_result"
    }
   ],
   "source": [
    "a"
   ]
  },
  {
   "cell_type": "code",
   "execution_count": 103,
   "metadata": {},
   "outputs": [],
   "source": [
    "X_train, X_test, y_train, y_test = train_test_split(a.drop(columns=[\"FIRE_SIZE\"]), a.FIRE_SIZE, test_size=0.30, random_state=42)"
   ]
  },
  {
   "cell_type": "code",
   "execution_count": 104,
   "metadata": {},
   "outputs": [],
   "source": [
    "reg = LinearRegression().fit(X_train,y_train)"
   ]
  },
  {
   "cell_type": "code",
   "execution_count": 105,
   "metadata": {},
   "outputs": [],
   "source": [
    "y_pred=reg.predict(X_test)"
   ]
  },
  {
   "cell_type": "code",
   "execution_count": 106,
   "metadata": {},
   "outputs": [
    {
     "data": {
      "text/plain": [
       "0.044929753058662536"
      ]
     },
     "execution_count": 106,
     "metadata": {},
     "output_type": "execute_result"
    }
   ],
   "source": [
    "1 - (sum((y_pred - y_test)**2)/sum((np.mean(y_train) - y_test)**2))"
   ]
  },
  {
   "cell_type": "code",
   "execution_count": 107,
   "metadata": {},
   "outputs": [],
   "source": [
    "la = LassoCV(cv=5,alphas=[0.00000001,0.0000001,0.000001,0.00001,0.0001,0.001,0.01],max_iter=100000000).fit(X_train,y_train)"
   ]
  },
  {
   "cell_type": "code",
   "execution_count": 108,
   "metadata": {},
   "outputs": [
    {
     "data": {
      "text/plain": [
       "0.001"
      ]
     },
     "execution_count": 108,
     "metadata": {},
     "output_type": "execute_result"
    }
   ],
   "source": [
    "la.alpha_"
   ]
  },
  {
   "cell_type": "code",
   "execution_count": 109,
   "metadata": {},
   "outputs": [],
   "source": [
    "y_pred=la.predict(X_test)"
   ]
  },
  {
   "cell_type": "code",
   "execution_count": 110,
   "metadata": {},
   "outputs": [
    {
     "data": {
      "text/plain": [
       "0.0463169999138886"
      ]
     },
     "execution_count": 110,
     "metadata": {},
     "output_type": "execute_result"
    }
   ],
   "source": [
    "1 - (sum((y_pred - y_test)**2)/sum((np.mean(y_train) - y_test)**2))"
   ]
  },
  {
   "cell_type": "code",
   "execution_count": 111,
   "metadata": {},
   "outputs": [],
   "source": [
    "ri = RidgeCV(cv=5,alphas=list(range(30,60))).fit(X_train,y_train)"
   ]
  },
  {
   "cell_type": "code",
   "execution_count": 112,
   "metadata": {},
   "outputs": [
    {
     "data": {
      "text/plain": [
       "30"
      ]
     },
     "execution_count": 112,
     "metadata": {},
     "output_type": "execute_result"
    }
   ],
   "source": [
    "ri.alpha_"
   ]
  },
  {
   "cell_type": "code",
   "execution_count": 113,
   "metadata": {},
   "outputs": [],
   "source": [
    "y_pred=ri.predict(X_test)"
   ]
  },
  {
   "cell_type": "code",
   "execution_count": 114,
   "metadata": {},
   "outputs": [
    {
     "data": {
      "text/plain": [
       "0.043337373811436986"
      ]
     },
     "execution_count": 114,
     "metadata": {},
     "output_type": "execute_result"
    }
   ],
   "source": [
    "1 - (sum((y_pred - y_test)**2)/sum((np.mean(y_train) - y_test)**2))"
   ]
  },
  {
   "cell_type": "code",
   "execution_count": 115,
   "metadata": {},
   "outputs": [
    {
     "data": {
      "text/plain": [
       "Index(['wetflag_Y', 'FIPS_NAME_y_Butte', 'FIPS_NAME_y_Colusa',\n",
       "       'FIPS_NAME_y_El Dorado', 'FIPS_NAME_y_Glenn', 'FIPS_NAME_y_Inyo',\n",
       "       'FIPS_NAME_y_Marin', 'FIPS_NAME_y_Mendocino', 'FIPS_NAME_y_Merced',\n",
       "       'FIPS_NAME_y_San Benito', 'FIPS_NAME_y_Yolo', 'STAT_CAUSE_CODE_6'],\n",
       "      dtype='object')"
      ]
     },
     "execution_count": 115,
     "metadata": {},
     "output_type": "execute_result"
    }
   ],
   "source": [
    "X_train.columns[la.coef_==0]"
   ]
  },
  {
   "cell_type": "code",
   "execution_count": 116,
   "metadata": {},
   "outputs": [
    {
     "data": {
      "text/plain": [
       "array([-3.19601084e-02, -2.37757678e-02, -5.32042155e-04,  5.63973721e-02,\n",
       "       -4.82523342e-03,  1.97706318e-02,  1.40763930e-02, -1.11055020e-02,\n",
       "        4.29850359e-03,  8.55537411e-02, -1.17356667e-04, -2.00244771e-02,\n",
       "       -1.65324760e-01,  5.21683692e-03,  1.33620596e-05, -0.00000000e+00,\n",
       "        0.00000000e+00,  0.00000000e+00, -0.00000000e+00,  1.21458208e-02,\n",
       "        0.00000000e+00,  0.00000000e+00,  3.57462635e+00, -3.41988603e-02,\n",
       "        1.72864474e-01,  2.15769380e-01, -2.25623088e-02, -0.00000000e+00,\n",
       "        3.09014828e-01,  0.00000000e+00,  0.00000000e+00, -2.56285877e-01,\n",
       "        7.16613898e-01, -4.33732345e-01, -4.19113065e-01,  5.71998205e-01,\n",
       "       -1.06875625e-01, -0.00000000e+00,  1.69660945e-01,  1.80428053e-01,\n",
       "        5.16435347e+00, -4.88787452e-01, -9.04975899e-01,  5.08509705e-01,\n",
       "       -3.44170757e-01, -1.90337441e-01,  6.79870890e-01,  2.94656194e-01,\n",
       "       -4.38503363e-01,  0.00000000e+00, -5.06308092e-01,  3.97282245e-01,\n",
       "       -8.86188114e-01,  4.10082753e-01, -4.55198910e-01, -8.25633691e-01,\n",
       "       -9.36441783e-01, -3.63900184e-01, -7.34446213e-01, -0.00000000e+00,\n",
       "       -5.68689561e-01, -9.51710930e-01, -7.27778246e-01])"
      ]
     },
     "execution_count": 116,
     "metadata": {},
     "output_type": "execute_result"
    }
   ],
   "source": [
    "la.coef_"
   ]
  },
  {
   "cell_type": "code",
   "execution_count": null,
   "metadata": {},
   "outputs": [],
   "source": []
  }
 ],
 "metadata": {
  "kernelspec": {
   "display_name": "Python 3",
   "language": "python",
   "name": "python3"
  },
  "language_info": {
   "codemirror_mode": {
    "name": "ipython",
    "version": 3
   },
   "file_extension": ".py",
   "mimetype": "text/x-python",
   "name": "python",
   "nbconvert_exporter": "python",
   "pygments_lexer": "ipython3",
   "version": "3.8.3"
  }
 },
 "nbformat": 4,
 "nbformat_minor": 4
}
